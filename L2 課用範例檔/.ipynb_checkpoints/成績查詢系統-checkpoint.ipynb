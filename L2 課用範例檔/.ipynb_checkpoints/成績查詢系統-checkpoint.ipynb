{
 "cells": [
  {
   "cell_type": "code",
   "execution_count": 2,
   "id": "5551cb85",
   "metadata": {},
   "outputs": [
    {
     "name": "stdout",
     "output_type": "stream",
     "text": [
      "Collecting mysqlclient\n",
      "  Downloading mysqlclient-2.0.3-cp38-cp38-win_amd64.whl (179 kB)\n",
      "Installing collected packages: mysqlclient\n",
      "Successfully installed mysqlclient-2.0.3\n"
     ]
    }
   ],
   "source": [
    "!pip install mysqlclient"
   ]
  },
  {
   "cell_type": "markdown",
   "id": "f81e130e",
   "metadata": {},
   "source": [
    "# 創建資料表"
   ]
  },
  {
   "cell_type": "code",
   "execution_count": 15,
   "id": "080fa2f8",
   "metadata": {},
   "outputs": [],
   "source": [
    "import MySQLdb\n",
    "\n",
    "db = MySQLdb.connect(\"localhost\",\"root\",\"123456\",\"mysql_prj\")\n",
    "\n",
    "cursor = db.cursor()\n",
    "\n",
    "## 1.將如果STUDENTS資料表存在，將STUDENTS資料表丟棄\n",
    "\n",
    "cursor.execute('Drop TABLE IF EXISTS STUDENTS ')\n",
    "\n",
    "## 2.創建STUDENTS資料表，資料表欄位如下\n",
    "'''\n",
    "| ID INT(11) | NAME CHAR(20) | GENDER CHAR(20) | CHINESE CHAR(20) | ENGLISH CHAR(20) | MATH CHAR(20) | SOCIAL_SCIENCE CHAR(20) | SCIENCE  CHAR(20) |\n",
    "\n",
    "PRIMARY KEY = ID\n",
    "CHARSET = utf8\n",
    "\n",
    "'''\n",
    "sql = \"\"\"CREATE TABLE STUDENTS (\n",
    "         ID INT(11) NOT NULL AUTO_INCREMENT,\n",
    "         NAME  CHAR(20) NOT NULL,\n",
    "         GENDER CHAR(20) NOT NULL,\n",
    "         CHINESE CHAR(20),  \n",
    "         ENGLISH CHAR(20) NOT NULL,\n",
    "         MATH CHAR(20) NOT NULL,\n",
    "         SOCIAL_SCIENCE CHAR(20) NOT NULL,\n",
    "         SCIENCE CHAR(20) NOT NULL,\n",
    "         PRIMARY KEY  (ID)\n",
    "         )DEFAULT CHARSET=utf8\"\"\"\n",
    "\n",
    "cursor.execute(sql)\n",
    "\n",
    "db.close()"
   ]
  },
  {
   "cell_type": "markdown",
   "id": "3a22c71e",
   "metadata": {},
   "source": [
    "# 手key學生成績到資料庫內  \n",
    "請手動輸入以下兩位學生成績  \n",
    "name: isaac, gender: m, chinese: 60, english: 72, math: 32, social_science: 52, science: 86  \n",
    "name: amy, gender: f, chinese: 50, english: 22, math: 80, social_science: 15, science: 93"
   ]
  },
  {
   "cell_type": "code",
   "execution_count": 18,
   "id": "ffec7f57",
   "metadata": {},
   "outputs": [
    {
     "name": "stdout",
     "output_type": "stream",
     "text": [
      "enter students score\n",
      "enter name: isaac\n",
      "enter gender: m\n",
      "enter chinese score: 10\n",
      "enter english score: 20\n",
      "enter math score: 30\n",
      "enter social science score: 40\n",
      "enter science score: 50\n",
      "continue(y/n)? y\n",
      "enter name: amy\n",
      "enter gender: f\n",
      "enter chinese score: 11\n",
      "enter english score: 12\n",
      "enter math score: 13\n",
      "enter social science score: 14\n",
      "enter science score: 15\n",
      "continue(y/n)? n\n"
     ]
    }
   ],
   "source": [
    "import MySQLdb\n",
    "\n",
    "db = MySQLdb.connect(\"localhost\",\"root\",\"123456\",\"mysql_prj\" )\n",
    "\n",
    "cursor = db.cursor()\n",
    "\n",
    "print(\"enter students score\")\n",
    "while True:\n",
    "\n",
    "    student_name = input(\"enter name: \")\n",
    "    student_gender = input(\"enter gender: \")\n",
    "    student_chinese = input(\"enter chinese score: \")\n",
    "    student_english = input(\"enter english score: \")\n",
    "    student_math = input(\"enter math score: \")\n",
    "    student_social_science = input(\"enter social science score: \")\n",
    "    student_science = input(\"enter science score: \")\n",
    "    \n",
    "    ## 3.將student_name, student_gender, student_chinese, ......插入到資料庫\n",
    "    x = (student_name, student_gender, student_chinese, student_english, student_math, student_social_science, student_science)\n",
    "    sql = \"\"\"INSERT INTO STUDENTS(NAME,\n",
    "         GENDER, CHINESE, ENGLISH, MATH, SOCIAL_SCIENCE, SCIENCE)\n",
    "         VALUES (%s, %s, %s, %s, %s, %s, %s)\"\"\"\n",
    "    try:\n",
    "        cursor.execute(sql, x)\n",
    "        db.commit()\n",
    "    except:\n",
    "        db.rollback()\n",
    "    again = input(\"continue(y/n)? \")\n",
    "    if again[0].lower() == \"n\":\n",
    "        break\n",
    "\n",
    "db.close()"
   ]
  },
  {
   "cell_type": "markdown",
   "id": "73dac82c",
   "metadata": {},
   "source": [
    "# 查詢目前資料庫所有內容"
   ]
  },
  {
   "cell_type": "code",
   "execution_count": 23,
   "id": "b48e7bbc",
   "metadata": {},
   "outputs": [
    {
     "name": "stdout",
     "output_type": "stream",
     "text": [
      "name: isaac, gender: m, chinese: 10, english: 20, math: 30, social_science: 40, science: 50\n",
      "name: amy, gender: f, chinese: 11, english: 12, math: 13, social_science: 14, science: 15\n"
     ]
    }
   ],
   "source": [
    "import MySQLdb\n",
    "\n",
    "db = MySQLdb.connect(\"localhost\",\"root\",\"123456\",\"mysql_prj\")\n",
    "\n",
    "\n",
    "cursor = db.cursor()\n",
    "\n",
    "sql = \"SELECT * FROM STUDENTS\"\n",
    "\n",
    "## 4.查詢目前資料庫所有內容\n",
    "try:\n",
    "    cursor.execute(sql)\n",
    "    result = cursor.fetchall()\n",
    "\n",
    "    for row in result:\n",
    "        student_id = row[0]\n",
    "        student_name = row[1]\n",
    "        student_gender = row[2]\n",
    "        student_chinese = row[3]\n",
    "        student_english = row[4]\n",
    "        student_math = row[5]\n",
    "        student_social_science = row[6]\n",
    "        student_science = row[7]\n",
    "        print('name: {}, gender: {}, chinese: {}, english: {}, math: {}, social_science: {}, science: {}'\n",
    "              .format(student_name, student_gender, student_chinese, student_english, student_math, student_social_science,student_science))\n",
    "    db.commit()\n",
    "\n",
    "except:\n",
    "    db.rollback()\n",
    "\n",
    "    \n",
    "db.close()"
   ]
  },
  {
   "cell_type": "markdown",
   "id": "49b9f6af",
   "metadata": {},
   "source": [
    "# 使用csv檔案，大量匯入全班成績"
   ]
  },
  {
   "cell_type": "code",
   "execution_count": 26,
   "id": "3679ccbb",
   "metadata": {},
   "outputs": [
    {
     "name": "stdout",
     "output_type": "stream",
     "text": [
      "insert loe data......\n",
      "insert judy data......\n",
      "insert lily data......\n",
      "insert evan data......\n",
      "insert joyce data......\n",
      "insert yoshi data......\n",
      "insert amber data......\n",
      "insert alex data......\n",
      "insert sophia data......\n"
     ]
    }
   ],
   "source": [
    "import MySQLdb\n",
    "db = MySQLdb.connect(\"localhost\",\"root\",\"123456\",\"mysql_prj\" )\n",
    "cursor = db.cursor()\n",
    "sql = \"\"\"INSERT INTO STUDENTS(NAME,\n",
    "         GENDER, CHINSES, ENGLISH, MATH,\n",
    "         SOCIAL_SCIENCE, SCIENCE)\n",
    "         VALUES ( %s, %s, %s, %s, %s)\"\"\"\n",
    "## 5.將exam_score.csv所有學生成績插入資料庫\n",
    "with open('exam_score.csv') as f:\n",
    "    for index, i in enumerate(f.readlines()):\n",
    "        if index == 0: \n",
    "            continue\n",
    "        x = tuple(i.strip().split(','))\n",
    "        print('insert {} data......'.format(x[0]))\n",
    "        \n",
    "        sql = \"\"\"INSERT INTO STUDENTS\n",
    "            (NAME, GENDER, CHINESE, ENGLISH, MATH, SOCIAL_SCIENCE, SCIENCE)\n",
    "            VALUES (%s, %s, %s, %s, %s, %s, %s)\"\"\"\n",
    "        \n",
    "        try:\n",
    "            cursor.execute(sql, x)\n",
    "            db.commit()\n",
    "        except:\n",
    "            db.rollback()\n",
    "    \n",
    "db.close()"
   ]
  },
  {
   "cell_type": "markdown",
   "id": "c8d4f69d",
   "metadata": {},
   "source": [
    "# 將sophia英文成績改成99"
   ]
  },
  {
   "cell_type": "code",
   "execution_count": 28,
   "id": "0d5d5435",
   "metadata": {},
   "outputs": [],
   "source": [
    "import MySQLdb\n",
    "\n",
    "db = MySQLdb.connect(\"localhost\",\"root\",\"123456\",\"mysql_prj\" )\n",
    "\n",
    "cursor = db.cursor()\n",
    "\n",
    "## 6.將sophia英文成績改成99\n",
    "sql = \"UPDATE STUDENTS SET ENGLISH = 99 WHERE NAME = '%s'\" % ('sophia')\n",
    "\n",
    "try:\n",
    "    cursor.execute(sql)\n",
    "    db.commit()\n",
    "except:\n",
    "    db.rollback()\n",
    "\n",
    "db.close()"
   ]
  },
  {
   "cell_type": "markdown",
   "id": "66862dd2",
   "metadata": {},
   "source": [
    "# 計算各科平均"
   ]
  },
  {
   "cell_type": "code",
   "execution_count": 29,
   "id": "404bc7ff",
   "metadata": {},
   "outputs": [
    {
     "name": "stdout",
     "output_type": "stream",
     "text": [
      "chinese_avg: 49.09090909090909\n",
      "english_avg: 50.72727272727273\n",
      "math_avg: 50.63636363636363\n",
      "social_science_avg: 49.0\n",
      "science_avg: 53.45454545454545\n"
     ]
    }
   ],
   "source": [
    "import MySQLdb\n",
    "\n",
    "db = MySQLdb.connect(\"localhost\",\"root\",\"123456\",\"mysql_prj\" )\n",
    "\n",
    "cursor = db.cursor()\n",
    "\n",
    "\n",
    "sql = \"SELECT * FROM STUDENTS\"\n",
    "chinese_avg = 0\n",
    "english_avg = 0\n",
    "math_avg = 0\n",
    "social_science_avg = 0\n",
    "science_avg = 0\n",
    "\n",
    "try:\n",
    "    \n",
    "    cursor.execute(sql)\n",
    "\n",
    "    results = cursor.fetchall()\n",
    "    num_students = len(results)\n",
    "    ## 7.計算各個科目平均成績\n",
    "    for rows in results:\n",
    "        chinese_avg += float(rows[3])\n",
    "        english_avg += float(rows[4])\n",
    "        math_avg += float(rows[5])\n",
    "        social_science_avg += float(rows[6])\n",
    "        science_avg += float(rows[7])\n",
    "except:\n",
    "    print(\"Error: unable to fecth data\")\n",
    "\n",
    "print('chinese_avg: {}'.format(chinese_avg/num_students))\n",
    "print('english_avg: {}'.format(english_avg/num_students))\n",
    "print('math_avg: {}'.format(math_avg/num_students))\n",
    "print('social_science_avg: {}'.format(social_science_avg/num_students))\n",
    "print('science_avg: {}'.format(science_avg/num_students))\n",
    "\n",
    "db.close()"
   ]
  },
  {
   "cell_type": "code",
   "execution_count": null,
   "id": "056e256f",
   "metadata": {},
   "outputs": [],
   "source": []
  }
 ],
 "metadata": {
  "kernelspec": {
   "display_name": "Python 3",
   "language": "python",
   "name": "python3"
  },
  "language_info": {
   "codemirror_mode": {
    "name": "ipython",
    "version": 3
   },
   "file_extension": ".py",
   "mimetype": "text/x-python",
   "name": "python",
   "nbconvert_exporter": "python",
   "pygments_lexer": "ipython3",
   "version": "3.8.10"
  }
 },
 "nbformat": 4,
 "nbformat_minor": 5
}
